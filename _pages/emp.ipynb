{
 "cells": [
  {
   "cell_type": "code",
   "execution_count": 147,
   "metadata": {},
   "outputs": [],
   "source": [
    "import matplotlib.pyplot as plt\n",
    "import numpy as np\n",
    "from ipywidgets import interactive"
   ]
  },
  {
   "cell_type": "code",
   "execution_count": 279,
   "metadata": {},
   "outputs": [],
   "source": [
    "a=0.05 #radius of coil\n",
    "n= 100 #number of turns\n",
    "em=1.76e11\n",
    "L=1\n",
    "c=1e14\n",
    "slope=(16*a*c)/(3*em*(np.pi**3)*n**2)"
   ]
  },
  {
   "cell_type": "code",
   "execution_count": 280,
   "metadata": {},
   "outputs": [],
   "source": [
    "def f(v,i):\n",
    "    return (slope*v)/i\n"
   ]
  },
  {
   "cell_type": "code",
   "execution_count": 281,
   "metadata": {},
   "outputs": [],
   "source": [
    "def pq(f):\n",
    "    t1=(L+np.sqrt(L*L-4*L*f))/2\n",
    "    t2=(L-np.sqrt(L*L-4*L*f))/2\n",
    "    pair1=[t1,(L-t1)]\n",
    "    #pair2=[t2,(L-t2)]\n",
    "    return pair1 #[pair1,pair2]"
   ]
  },
  {
   "cell_type": "code",
   "execution_count": 282,
   "metadata": {},
   "outputs": [
    {
     "name": "stdout",
     "output_type": "stream",
     "text": [
      "1.732923e+11\n"
     ]
    },
    {
     "data": {
      "image/png": "[encoded data removed]",
      "text/plain": [
       "<Figure size 432x288 with 1 Axes>"
      ]
     },
     "metadata": {
      "needs_background": "light"
     },
     "output_type": "display_data"
    }
   ],
   "source": [
    "\n",
    "###################\n",
    "times=4\n",
    "y=[]\n",
    "x=[]\n",
    "for v in range(700,1300,100):\n",
    "    su=0.0\n",
    "    #print(\"|Voltage = \",v)\n",
    "    #print(\"|  i         P              Q                 f              |\")\n",
    "    for i in range(11,11+times+1):\n",
    "        temp=f(v,i)\n",
    "        if (temp<(L/4.0)):\n",
    "\n",
    "            st=pq(temp)\n",
    "            #print(\"|\",i,st[0],st[1],(st[0]*st[1])/L,\"|\")\n",
    "\n",
    "            su+=i*i*(st[0]*st[1])/L\n",
    "    #print(\"--------------------------------------------------------------\")           \n",
    "    su=su/(times**3)\n",
    "    y.append(su)\n",
    "    x.append(v)\n",
    "\n",
    "\n",
    "plt.grid(True)\n",
    "plt.plot(x,y)\n",
    "\n",
    "slp=(y[4]-y[2])/(x[4]-x[2])\n",
    "sol=(16*a*c)/(3*slp*(np.pi**3)*n**2)\n",
    "sol=\"{:e}\".format(sol)\n",
    "\n",
    "print(sol)"
   ]
  },
  {
   "cell_type": "code",
   "execution_count": 311,
   "metadata": {},
   "outputs": [],
   "source": [
    "def plott(v,i,p):\n",
    "    figure, axes = plt.subplots()\n",
    "    \n",
    "    temp=f(v,i)\n",
    "    st=pq(temp)\n",
    "    q=L-p\n",
    "    if(p<st[0]):\n",
    "        r=(np.abs(p-st[1]))*a*0.5\n",
    "    else: r=(np.abs(p-st[0]))*a*0.5\n",
    "   \n",
    "    \n",
    "    if (temp<(L/4.0) and ((np.abs(st[0]-p) <0.01) or (np.abs(st[1]-p) <0.01))):\n",
    "        t=plt.Circle(( 0,0), a/10,fill=True )\n",
    "    else:\n",
    "        t=plt.Circle(( 0,0), r,fill=False )\n",
    "        \n",
    "    plt.xlim((-a/2,a/2)) \n",
    "    plt.ylim((-a/2,a/2))\n",
    "    \n",
    "    axes.set_aspect( 1 )\n",
    "    axes.add_artist( t)\n",
    "    tite=\"P=\"+str(p)+\"calc=\"+str(st[0])+\",\"+str(st[1])\n",
    "    \n",
    "    plt.title( tite)\n",
    "    plt.show()"
   ]
  },
  {
   "cell_type": "code",
   "execution_count": 312,
   "metadata": {},
   "outputs": [],
   "source": [
    "interactivepl=interactive(plott,v=(700,1300,100),i=(1,20,1),p=(0.001,L,0.001))"
   ]
  },
  {
   "cell_type": "code",
   "execution_count": 313,
   "metadata": {},
   "outputs": [
    {
     "data": {
      "application/vnd.jupyter.widget-view+json": {
       "model_id": "5aeb5f9da3d842208b529ed862efc38c",
       "version_major": 2,
       "version_minor": 0
      },
      "text/plain": [
       "interactive(children=(IntSlider(value=1000, description='v', max=1300, min=700, step=100), IntSlider(value=10,…"
      ]
     },
     "metadata": {},
     "output_type": "display_data"
    }
   ],
   "source": [
    "interactivepl"
   ]
  },
  {
   "cell_type": "code",
   "execution_count": null,
   "metadata": {},
   "outputs": [],
   "source": []
  }
 ],
 "metadata": {
  "kernelspec": {
   "display_name": "Python 3",
   "language": "python",
   "name": "python3"
  },
  "language_info": {
   "codemirror_mode": {
    "name": "ipython",
    "version": 3
   },
   "file_extension": ".py",
   "mimetype": "text/x-python",
   "name": "python",
   "nbconvert_exporter": "python",
   "pygments_lexer": "ipython3",
   "version": "3.7.4"
  }
 },
 "nbformat": 4,
 "nbformat_minor": 2
}
